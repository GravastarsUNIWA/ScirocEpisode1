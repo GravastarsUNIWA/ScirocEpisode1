{
 "cells": [
  {
   "cell_type": "markdown",
   "id": "aabeabec",
   "metadata": {},
   "source": [
    "# ros_yolov5 ReadMe"
   ]
  },
  {
   "cell_type": "markdown",
   "id": "a481095e",
   "metadata": {},
   "source": [
    "## Installation\n",
    "1. Put the ros_yolov5 folder inside your ros **workspace/src** folder and rebuild the workspace\n",
    "   <br>ex.\n",
    "   ```bash\n",
    "   mv ros_yolov5 /home/user/catkin_ws/src \n",
    "   roscd\n",
    "   cd ..\n",
    "   catkin_make\n",
    "   source devel/setup.bash\n",
    "   ```\n",
    "1. Install dependencies:\n",
    "\n",
    "    1. If you have anaconda installed **(tested)**:\n",
    "        1. Create a conda virtual environment: \n",
    "        ```\n",
    "        conda create -n envname python=x.x jupyter\n",
    "\n",
    "        ex.\n",
    "        conda create -n rospytorch python=3.8 jupyter\n",
    "        ```\n",
    "        1. Activate your new virtual environment using:\n",
    "           <br>For windows: ```activate rospytorch```\n",
    "           <br>For linux: ```source activate rospyorch```\n",
    "           <br>instead of **rospytorch** use the name of your virtual envirnment if it is different\n",
    "           <br>\n",
    "        1. Go to __[pytorch get-started guide](https://pytorch.org/get-started/locally/)__,\n",
    "           <br>insert your specifications for **os** (windows/linux) and **Compute Platform** cpu/gpu etc.)\n",
    "           <br>for the other options use:\n",
    "           <br>**PyTorch Build**: LTS(1.8.2)\n",
    "           <br>**Package**: Conda\n",
    "           <br>copy the installation command next to **Run this command** to your terminal and run it\n",
    "           <br>ex. ```conda install pytorch torchvision torchaudio cpuonly -c pytorch-lts```\n",
    "           <br>\n",
    "        1. To install the rest of the dipendencies:\n",
    "           ```bash\n",
    "           roscd ros_yolov5/yolov5\n",
    "           sudo apt-get install python3-pip python3-yaml\n",
    "           pip3 install -r requirements.txt\n",
    "           pip3 install rospkg catkin_pkg\n",
    "           ```\n",
    "           \n",
    "    1. If you don't have anaconda installed **(untested)**:\n",
    "        1. Go to __[pytorch get-started guide](https://pytorch.org/get-started/locally/)__,\n",
    "           <br>insert your specifications for **os** (windows/linux) and **Compute Platform** cpu/gpu etc.)\n",
    "           <br>for the other options use:\n",
    "           <br>**PyTorch Build**: LTS(1.8.2)\n",
    "           <br>**Package**: Pip\n",
    "           <br>copy the installation command next to **Run this command** to your terminal and run it\n",
    "           <br>ex. ```pip3 install torch==1.9.0+cpu torchvision==0.10.0+cpu torchaudio==0.9.0 -f https://download.pytorch.org/whl/torch_stable.html```\n",
    "           <br>\n",
    "        1. To install the rest of the dipendencies:\n",
    "           ```bash\n",
    "           roscd ros_yolov5/yolov5\n",
    "           sudo apt-get install python3-pip python3-yaml\n",
    "           pip3 install -r requirements.txt\n",
    "           pip3 install rospkg catkin_pkg\n",
    "           ```\n",
    "1. Modify the shebang at the top of ros_yolov5.py file at ros_yolov5/src/ros_yolov5.py to:\n",
    "   ```python\n",
    "   #!/usr/bin/env/python\n",
    "   ```\n",
    "   or\n",
    "   ```python\n",
    "   #!/usr/bin/env/python3\n",
    "   ```\n",
    "   or any other interpreter you are using\n",
    "   <br>To find your interpreter open a terminal and type\n",
    "   ```bash\n",
    "   python\n",
    "   import sys\n",
    "   print(sys.executable)\n",
    "   ```\n",
    "   copy the path without ```'``` and add ```#!``` at the front"
   ]
  },
  {
   "cell_type": "markdown",
   "id": "0123f58f",
   "metadata": {},
   "source": [
    "## Usage"
   ]
  },
  {
   "cell_type": "markdown",
   "id": "983101f6",
   "metadata": {},
   "source": [
    "To change the weights that Yolov5 uses open ```ros_yolov5.launch``` on ```ros_yolov5/launch/ros_yolov5.launch``` and change the **value** of the parameter **weights_path** to point to your **pt** file"
   ]
  },
  {
   "cell_type": "markdown",
   "id": "2065c21c",
   "metadata": {},
   "source": [
    "ros_yolov5 is now ready to run.\n",
    "open a terminal and run ```roslaunch ros_yolov5 ros_yolov5.launch```\n",
    "\n",
    "Node name: **yolov5_object_detector**\n",
    "\n",
    "Publishers: \n",
    " * /object_detection/counter [std_msgs/String]\n",
    " * /object_detection/image [sensor_msgs/Image]\n",
    " * /object_detection/names [std_msgs/String]\n",
    " * /object_detection/objects [std_msgs/String]\n",
    "\n",
    "Subscribers\n",
    " * /camera/rgb/image_raw [sensor_msgs/Image]\n"
   ]
  },
  {
   "cell_type": "markdown",
   "id": "dc94027e",
   "metadata": {},
   "source": [
    "### Demo node to demonstrate how to use ros_yolov5"
   ]
  },
  {
   "cell_type": "code",
   "execution_count": 1,
   "id": "20f047fc",
   "metadata": {},
   "outputs": [],
   "source": [
    "# Helper imports to visualize image messages in notebook\n",
    "import matplotlib.pyplot as plt\n",
    "import time\n",
    "%matplotlib inline"
   ]
  },
  {
   "cell_type": "code",
   "execution_count": 2,
   "id": "17481edb",
   "metadata": {},
   "outputs": [],
   "source": [
    "import json\n",
    "import numpy as np\n",
    "\n",
    "import rospy\n",
    "from std_msgs.msg import String\n",
    "from sensor_msgs.msg import Image\n",
    "\n",
    "rospy.init_node('ros_yolov5_consumer')"
   ]
  },
  {
   "cell_type": "markdown",
   "id": "763453bf",
   "metadata": {},
   "source": [
    "#### Detected object names"
   ]
  },
  {
   "cell_type": "code",
   "execution_count": 3,
   "id": "1d358d63",
   "metadata": {},
   "outputs": [
    {
     "name": "stdout",
     "output_type": "stream",
     "text": [
      "['estathe', 'beer', 'estathe']\n",
      "Found 3 objects\n"
     ]
    }
   ],
   "source": [
    "# Each message is a list of names of detected objects\n",
    "# If an object is present multiple times then there is one name for each instance on the list\n",
    "# ex. If there are 2 cocacola cans then the message is ['cocacola', 'cocacola']\n",
    "def detected_names_cb(msg):\n",
    "    object_names_list = json.loads(msg.data)\n",
    "    print(object_names_list)\n",
    "    \n",
    "    print(f'Found {len(object_names_list)} objects')\n",
    "    \n",
    "    \n",
    "detected_names_sub = rospy.Subscriber('/object_detection/names', String, callback=detected_names_cb)\n",
    "\n",
    "# just for jupyter notebook, not needed on production node\n",
    "time.sleep(0.5)\n",
    "detected_names_sub.unregister()"
   ]
  },
  {
   "cell_type": "markdown",
   "id": "048bb52b",
   "metadata": {},
   "source": [
    "#### Detected object details"
   ]
  },
  {
   "cell_type": "code",
   "execution_count": 4,
   "id": "0abc5a05",
   "metadata": {},
   "outputs": [
    {
     "name": "stdout",
     "output_type": "stream",
     "text": [
      "[72, 186, 149, 348, 0.8162909746170044, 4, 'estathe']\n",
      "[385, 62, 478, 410, 0.6203822493553162, 0, 'beer']\n",
      "[225, 188, 308, 368, 0.5469662547111511, 4, 'estathe']\n",
      "Found 3 objects\n"
     ]
    }
   ],
   "source": [
    "# Each message contains is a list of detected objects\n",
    "# Each object is represented by a list with format\n",
    "# [startx, starty, endx, endy, confidence, class_id, class_name]\n",
    "def detected_objects_cb(msg):\n",
    "    object_list = json.loads(msg.data)\n",
    "    \n",
    "    for obj in object_list:\n",
    "        print(obj)\n",
    "    \n",
    "    print(f'Found {len(object_list)} objects')\n",
    "    \n",
    "    \n",
    "detected_objects_sub = rospy.Subscriber('/object_detection/objects', String, callback=detected_objects_cb)\n",
    "\n",
    "# just for jupyter notebook, not needed on production node\n",
    "time.sleep(0.5)\n",
    "detected_objects_sub.unregister()"
   ]
  },
  {
   "cell_type": "markdown",
   "id": "2141c4d8",
   "metadata": {},
   "source": [
    "#### Detection counter"
   ]
  },
  {
   "cell_type": "code",
   "execution_count": 5,
   "id": "4aed2e5a",
   "metadata": {},
   "outputs": [
    {
     "name": "stdout",
     "output_type": "stream",
     "text": [
      "{'estathe': 2, 'beer': 1}\n"
     ]
    }
   ],
   "source": [
    "def detected_count_cb(msg):\n",
    "    count_dict = json.loads(msg.data)\n",
    "    print(count_dict)\n",
    "    \n",
    "detected_count_sub = rospy.Subscriber('/object_detection/counter', String, callback=detected_count_cb)\n",
    "\n",
    "# just for jupyter notebook, not needed on production node\n",
    "time.sleep(0.5)\n",
    "detected_count_sub.unregister()"
   ]
  },
  {
   "cell_type": "markdown",
   "id": "f87dbc81",
   "metadata": {},
   "source": [
    "#### Annotated image"
   ]
  },
  {
   "cell_type": "code",
   "execution_count": 6,
   "id": "ecd51a56",
   "metadata": {},
   "outputs": [
    {
     "data": {
      "image/png": "[encoded data removed]",
      "text/plain": [
       "<Figure size 432x288 with 1 Axes>"
      ]
     },
     "metadata": {
      "needs_background": "light"
     },
     "output_type": "display_data"
    }
   ],
   "source": [
    "def image_cb(msg):\n",
    "    img = np.frombuffer(msg.data, dtype=np.uint8)\n",
    "    img = img.reshape((msg.height, msg.width, 3))\n",
    "    \n",
    "    plt.imshow(img)\n",
    "    \n",
    "annotaded_img_sub = rospy.Subscriber('/object_detection/image', Image, callback=image_cb)\n",
    "\n",
    "# just for jupyter notebook, not needed on production node\n",
    "time.sleep(1)\n",
    "annotaded_img_sub.unregister()"
   ]
  }
 ],
 "metadata": {
  "kernelspec": {
   "display_name": "Python 3",
   "language": "python",
   "name": "python3"
  },
  "language_info": {
   "codemirror_mode": {
    "name": "ipython",
    "version": 3
   },
   "file_extension": ".py",
   "mimetype": "text/x-python",
   "name": "python",
   "nbconvert_exporter": "python",
   "pygments_lexer": "ipython3",
   "version": "3.8.11"
  }
 },
 "nbformat": 4,
 "nbformat_minor": 5
}
